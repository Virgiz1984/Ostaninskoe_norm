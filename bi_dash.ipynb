{
 "cells": [
  {
   "cell_type": "code",
   "execution_count": 2,
   "id": "cf609890-0e8d-44e4-9738-a0804898b67a",
   "metadata": {},
   "outputs": [],
   "source": [
    "import pandas as pd\n",
    "import plotly.express as px\n",
    "from ipywidgets import interact, widgets\n"
   ]
  },
  {
   "cell_type": "code",
   "execution_count": 3,
   "id": "cafc5a10-c2e7-495d-bf8a-0b633e7a42a2",
   "metadata": {},
   "outputs": [],
   "source": [
    "properties_rf_all = pd.read_excel('properties_rf_all_1.xlsx')"
   ]
  },
  {
   "cell_type": "code",
   "execution_count": null,
   "id": "afe55be8-ce01-41a0-b2f6-4a9af7e18d3f",
   "metadata": {},
   "outputs": [],
   "source": [
    "filtered = properties_rf_all"
   ]
  },
  {
   "cell_type": "code",
   "execution_count": 14,
   "id": "5d9b42d0-2c2d-4e9e-abbe-49cfd9490a76",
   "metadata": {},
   "outputs": [
    {
     "data": {
      "application/vnd.jupyter.widget-view+json": {
       "model_id": "df566ef2b36e4f33ab8aef27c8f50d85",
       "version_major": 2,
       "version_minor": 0
      },
      "text/plain": [
       "interactive(children=(SelectMultiple(description='Скважины', index=(0,), options=('bol_1p', 'bol_2p', 'bol_3p'…"
      ]
     },
     "metadata": {},
     "output_type": "display_data"
    },
    {
     "data": {
      "text/plain": [
       "<function __main__.plot_petrophysics(well_ids)>"
      ]
     },
     "execution_count": 14,
     "metadata": {},
     "output_type": "execute_result"
    }
   ],
   "source": [
    "from ipywidgets import interact, widgets\n",
    "import plotly.express as px\n",
    "\n",
    "# Предположим, что wells — список уникальных скважин из данных:\n",
    "wells = properties_rf_all['well'].unique()\n",
    "\n",
    "def plot_petrophysics(well_ids):\n",
    "    # Фильтруем данные по выбранным скважинам\n",
    "    filtered = properties_rf_all[properties_rf_all['well'].isin(well_ids)]\n",
    "    \n",
    "    fig1 = px.line(filtered, x='DEPTH', y='GK_NORM', color='well', title='Давление по глубине')\n",
    "    fig1.show()\n",
    "    \n",
    "    fig2 = px.line(filtered, x='DEPTH', y='log_BK_NORM', color='well', title='Обводнение по глубине')\n",
    "    fig2.show()\n",
    "    \n",
    "    # Убедись, что в названии колонки нет лишних символов, например табуляции\n",
    "    fig3 = px.scatter(filtered, x='flow_all_rf', y='perm_timur_ad', color='Кластеры ГИС', title='Зависимость давления и проницаемости')\n",
    "    fig3.show()\n",
    "\n",
    "interact(plot_petrophysics,\n",
    "         well_ids=widgets.SelectMultiple(options=wells, value=[wells[0]], description='Скважины'))\n"
   ]
  },
  {
   "cell_type": "code",
   "execution_count": 16,
   "id": "154ed6c9-0ec7-4ff4-a1f8-541b28c8759d",
   "metadata": {},
   "outputs": [
    {
     "name": "stdout",
     "output_type": "stream",
     "text": [
      "['bol_1p' 'bol_2p' 'bol_3p' 'bor_2p' 'kalg_31p' 'l-jar_40p' 'l-jar_41p'\n",
      " 'mir_407r' 'mir_413r' 'mir_419p' 'ost_1406_k3_2' 'ost_1413_k4'\n",
      " 'ost_1415_k4' 'ost_1416_k4' 'ost_1417_k4' 'ost_1418_k4' 'ost_2408_k4'\n",
      " 'ost_2409_k4' 'ost_2410_k4' 'ost_2411_k4_1' 'ost_2411_k4_2' 'ost_2412_k4'\n",
      " 'ost_2413_k4' 'ost_417r' 'ost_418p' 'ost_450p' 'ost_451p' 'ost_452p'\n",
      " 'ost_455r' 'ost_457p' 'ost_458p' 'pin_1p' 'pin_2p' 'pin_3r' 'pin_5p'\n",
      " 'rib_405p' 'rib_410r' 'rib_411p' 'rib_412p' 's-ost_10p' 's-ost_12p'\n",
      " 's-ost_13p' 's-ost_14p' 's-ost_15p' 's-ost_16p' 's-ost_17p'\n",
      " 's-ost_204_k3' 's-ost_27_k2' 's-ost_2p' 's-ost_37g_k2' 's-ost_3_2_k1'\n",
      " 's-ost_3_k1' 's-ost_3p' 's-ost_4_k1' 's-ost_4p' 's-ost_5_k2' 's-ost_5p'\n",
      " 's-ost_6p' 's-ost_7p' 's-ost_8p' 's-ost_9p' 'ubil_471p' 'ubil_472p'\n",
      " 'v-lug_1p' 'v-ost_475p' 'z-som_10p' 'z-som_11p' 'z-som_12p']\n"
     ]
    }
   ],
   "source": [
    "print(wells)"
   ]
  },
  {
   "cell_type": "code",
   "execution_count": 18,
   "id": "bc0284ca-3099-46fa-a634-2ad3219a8b66",
   "metadata": {},
   "outputs": [
    {
     "name": "stdout",
     "output_type": "stream",
     "text": [
      "Name: ipywidgets\n",
      "Version: 7.8.1\n",
      "Summary: IPython HTML widgets for Jupyter\n",
      "Home-page: http://ipython.org\n",
      "Author: IPython Development Team\n",
      "Author-email: ipython-dev@scipy.org\n",
      "License: BSD\n",
      "Location: C:\\Users\\rudenko\\AppData\\Local\\anaconda3\\Lib\\site-packages\n",
      "Requires: comm, ipython, ipython-genutils, jupyterlab-widgets, traitlets, widgetsnbextension\n",
      "Required-by: jupyter\n"
     ]
    }
   ],
   "source": [
    "!pip show ipywidgets"
   ]
  },
  {
   "cell_type": "code",
   "execution_count": 7,
   "id": "67a6bba2-7a5d-4a78-8658-67708ef77360",
   "metadata": {},
   "outputs": [
    {
     "data": {
      "application/vnd.jupyter.widget-view+json": {
       "model_id": "2e0ab0e92e7b45ee8b384664010381a7",
       "version_major": 2,
       "version_minor": 0
      },
      "text/plain": [
       "interactive(children=(SelectMultiple(description='Скважины', index=(0,), layout=Layout(height='200px', width='…"
      ]
     },
     "metadata": {},
     "output_type": "display_data"
    },
    {
     "data": {
      "text/plain": [
       "<function __main__.plot_petrophysics(well_ids)>"
      ]
     },
     "execution_count": 7,
     "metadata": {},
     "output_type": "execute_result"
    }
   ],
   "source": [
    "import pandas as pd\n",
    "import plotly.express as px\n",
    "import ipywidgets as widgets\n",
    "from ipywidgets import interact\n",
    "\n",
    "# Загружаем данные\n",
    "df = pd.read_excel(r'\\\\BABAKOV\\portal\\Северо-Останинское\\Вася/properties_rf_all_1.xlsx')\n",
    "\n",
    "# Получаем список уникальных скважин\n",
    "wells = sorted(df['well'].dropna().unique())\n",
    "\n",
    "# Функция отрисовки\n",
    "def plot_petrophysics(well_ids):\n",
    "    filtered = df[df['well'].isin(well_ids)]\n",
    "    \n",
    "    fig = px.line(filtered, x='DEPTH', y='GK_NORM', color='well', title='Гамма-каротаж (GK_NORM) по глубине')\n",
    "    fig.show()\n",
    "\n",
    "# Виджет выбора\n",
    "interact(\n",
    "    plot_petrophysics,\n",
    "    well_ids=widgets.SelectMultiple(\n",
    "        options=wells,\n",
    "        value=[wells[0]],\n",
    "        description='Скважины',\n",
    "        layout=widgets.Layout(width='400px', height='200px')\n",
    "    )\n",
    ")\n"
   ]
  },
  {
   "cell_type": "code",
   "execution_count": 1,
   "id": "d6df4023-8f69-48d1-9080-6fbc138090a9",
   "metadata": {},
   "outputs": [
    {
     "data": {
      "application/vnd.jupyter.widget-view+json": {
       "model_id": "30464f9665f74457ac598c221f7914a8",
       "version_major": 2,
       "version_minor": 0
      },
      "text/plain": [
       "IntSlider(value=0)"
      ]
     },
     "execution_count": 1,
     "metadata": {},
     "output_type": "execute_result"
    }
   ],
   "source": [
    "import ipywidgets as widgets\n",
    "widgets.IntSlider()"
   ]
  },
  {
   "cell_type": "code",
   "execution_count": null,
   "id": "0077b21a-11a9-4db6-b661-9216253bf998",
   "metadata": {},
   "outputs": [],
   "source": []
  }
 ],
 "metadata": {
  "kernelspec": {
   "display_name": "Python 3 (ipykernel)",
   "language": "python",
   "name": "python3"
  },
  "language_info": {
   "codemirror_mode": {
    "name": "ipython",
    "version": 3
   },
   "file_extension": ".py",
   "mimetype": "text/x-python",
   "name": "python",
   "nbconvert_exporter": "python",
   "pygments_lexer": "ipython3",
   "version": "3.12.3"
  }
 },
 "nbformat": 4,
 "nbformat_minor": 5
}
